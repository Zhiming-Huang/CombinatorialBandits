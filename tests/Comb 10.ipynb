{
 "cells": [
  {
   "cell_type": "code",
   "execution_count": 2,
   "id": "740b3705-0bd8-479b-8d53-5b415c28cb44",
   "metadata": {},
   "outputs": [],
   "source": [
    "import sys\n",
    "import os\n",
    "import numpy as np\n",
    "\n",
    "project_root= os.path.dirname(os.path.abspath('.'))\n",
    "#project_root = os.path.dirname(current_directory)\n",
    "sys.path.append(project_root)\n",
    "\n"
   ]
  },
  {
   "cell_type": "code",
   "execution_count": 3,
   "id": "f95e3ec3-bc43-4cf7-bd6a-4c71a79ecd5f",
   "metadata": {},
   "outputs": [],
   "source": [
    "import src.TS as TS"
   ]
  },
  {
   "cell_type": "code",
   "execution_count": 4,
   "id": "6c36f57f-ce3e-4c57-854c-cac812fd39d4",
   "metadata": {},
   "outputs": [],
   "source": [
    "T = 100000\n",
    "my_generator = np.random.default_rng(1000)\n",
    "'''\n",
    "Generate mean value for 10 arms, the first 1 arm with mean value 0.9\n",
    "and rest with mean value uniformly generated from 0.8 to 0.85\n",
    "'''\n",
    "N = 10\n",
    "m = 3\n",
    "delta = np.sqrt(N*np.log(N)/T)\n",
    "u = np.array(np.full(m, 0.9).tolist() + np.full(N-m, 0.8).tolist())\n",
    "#u = [0.1,0.05,0.03,0.02,0.01]\n",
    "epsi = 1/len(u)\n",
    "num_exp = 100\n",
    "\n",
    "rewards = np.tile(u, (T, 1)).T #repeat the mean values for all arms T times\n",
    "\n",
    "u_aval = np.full(N, 0.5)\n",
    "available_arms = np.tile(u_aval, (T, 1)).T #repeat the mean values for all arms T times\n",
    "\n",
    "\n",
    "\n",
    "more_child_rngs = my_generator.spawn(14)"
   ]
  },
  {
   "cell_type": "code",
   "execution_count": 5,
   "id": "97749a60-87b0-42f8-bba7-710b1b4c4daf",
   "metadata": {},
   "outputs": [
    {
     "name": "stderr",
     "output_type": "stream",
     "text": [
      "Experiment Number:   1%|          | 1/100 [00:28<47:36, 28.85s/it]"
     ]
    },
    {
     "name": "stdout",
     "output_type": "stream",
     "text": [
      "Experiment progress: 0.0%:  "
     ]
    },
    {
     "name": "stderr",
     "output_type": "stream",
     "text": [
      "Experiment Number:   2%|▏         | 2/100 [00:57<46:59, 28.77s/it]"
     ]
    },
    {
     "name": "stdout",
     "output_type": "stream",
     "text": [
      "Experiment progress: 0.01%:  "
     ]
    },
    {
     "name": "stderr",
     "output_type": "stream",
     "text": [
      "Experiment Number:   3%|▎         | 3/100 [01:26<46:28, 28.75s/it]"
     ]
    },
    {
     "name": "stdout",
     "output_type": "stream",
     "text": [
      "Experiment progress: 0.02%:  "
     ]
    },
    {
     "name": "stderr",
     "output_type": "stream",
     "text": [
      "Experiment Number:   4%|▍         | 4/100 [01:54<45:50, 28.65s/it]"
     ]
    },
    {
     "name": "stdout",
     "output_type": "stream",
     "text": [
      "Experiment progress: 0.03%:  "
     ]
    },
    {
     "name": "stderr",
     "output_type": "stream",
     "text": [
      "Experiment Number:   5%|▌         | 5/100 [02:23<45:19, 28.62s/it]"
     ]
    },
    {
     "name": "stdout",
     "output_type": "stream",
     "text": [
      "Experiment progress: 0.04%:  "
     ]
    },
    {
     "name": "stderr",
     "output_type": "stream",
     "text": [
      "Experiment Number:   6%|▌         | 6/100 [02:51<44:45, 28.57s/it]"
     ]
    },
    {
     "name": "stdout",
     "output_type": "stream",
     "text": [
      "Experiment progress: 0.05%:  "
     ]
    },
    {
     "name": "stderr",
     "output_type": "stream",
     "text": [
      "Experiment Number:   7%|▋         | 7/100 [03:20<44:15, 28.56s/it]"
     ]
    },
    {
     "name": "stdout",
     "output_type": "stream",
     "text": [
      "Experiment progress: 0.06%:  "
     ]
    },
    {
     "name": "stderr",
     "output_type": "stream",
     "text": [
      "Experiment Number:   8%|▊         | 8/100 [03:48<43:47, 28.56s/it]"
     ]
    },
    {
     "name": "stdout",
     "output_type": "stream",
     "text": [
      "Experiment progress: 0.07%:  "
     ]
    },
    {
     "name": "stderr",
     "output_type": "stream",
     "text": [
      "Experiment Number:   9%|▉         | 9/100 [04:17<43:17, 28.55s/it]"
     ]
    },
    {
     "name": "stdout",
     "output_type": "stream",
     "text": [
      "Experiment progress: 0.08%:  "
     ]
    },
    {
     "name": "stderr",
     "output_type": "stream",
     "text": [
      "Experiment Number:  10%|█         | 10/100 [04:45<42:47, 28.52s/it]"
     ]
    },
    {
     "name": "stdout",
     "output_type": "stream",
     "text": [
      "Experiment progress: 0.09%:  "
     ]
    },
    {
     "name": "stderr",
     "output_type": "stream",
     "text": [
      "Experiment Number:  11%|█         | 11/100 [05:14<42:18, 28.53s/it]"
     ]
    },
    {
     "name": "stdout",
     "output_type": "stream",
     "text": [
      "Experiment progress: 0.1%:  "
     ]
    },
    {
     "name": "stderr",
     "output_type": "stream",
     "text": [
      "Experiment Number:  12%|█▏        | 12/100 [05:42<41:49, 28.52s/it]"
     ]
    },
    {
     "name": "stdout",
     "output_type": "stream",
     "text": [
      "Experiment progress: 0.11%:  "
     ]
    },
    {
     "name": "stderr",
     "output_type": "stream",
     "text": [
      "Experiment Number:  13%|█▎        | 13/100 [06:11<41:21, 28.52s/it]"
     ]
    },
    {
     "name": "stdout",
     "output_type": "stream",
     "text": [
      "Experiment progress: 0.12%:  "
     ]
    },
    {
     "name": "stderr",
     "output_type": "stream",
     "text": [
      "Experiment Number:  14%|█▍        | 14/100 [06:39<40:50, 28.49s/it]"
     ]
    },
    {
     "name": "stdout",
     "output_type": "stream",
     "text": [
      "Experiment progress: 0.13%:  "
     ]
    },
    {
     "name": "stderr",
     "output_type": "stream",
     "text": [
      "Experiment Number:  15%|█▌        | 15/100 [07:08<40:23, 28.51s/it]"
     ]
    },
    {
     "name": "stdout",
     "output_type": "stream",
     "text": [
      "Experiment progress: 0.14%:  "
     ]
    },
    {
     "name": "stderr",
     "output_type": "stream",
     "text": [
      "Experiment Number:  16%|█▌        | 16/100 [07:37<39:57, 28.55s/it]"
     ]
    },
    {
     "name": "stdout",
     "output_type": "stream",
     "text": [
      "Experiment progress: 0.15%:  "
     ]
    },
    {
     "name": "stderr",
     "output_type": "stream",
     "text": [
      "Experiment Number:  17%|█▋        | 17/100 [08:05<39:31, 28.58s/it]"
     ]
    },
    {
     "name": "stdout",
     "output_type": "stream",
     "text": [
      "Experiment progress: 0.16%:  "
     ]
    },
    {
     "name": "stderr",
     "output_type": "stream",
     "text": [
      "Experiment Number:  18%|█▊        | 18/100 [08:34<39:07, 28.62s/it]"
     ]
    },
    {
     "name": "stdout",
     "output_type": "stream",
     "text": [
      "Experiment progress: 0.17%:  "
     ]
    },
    {
     "name": "stderr",
     "output_type": "stream",
     "text": [
      "Experiment Number:  19%|█▉        | 19/100 [09:03<38:40, 28.65s/it]"
     ]
    },
    {
     "name": "stdout",
     "output_type": "stream",
     "text": [
      "Experiment progress: 0.18%:  "
     ]
    },
    {
     "name": "stderr",
     "output_type": "stream",
     "text": [
      "Experiment Number:  20%|██        | 20/100 [09:31<38:10, 28.63s/it]"
     ]
    },
    {
     "name": "stdout",
     "output_type": "stream",
     "text": [
      "Experiment progress: 0.19%:  "
     ]
    },
    {
     "name": "stderr",
     "output_type": "stream",
     "text": [
      "Experiment Number:  21%|██        | 21/100 [10:00<37:43, 28.65s/it]"
     ]
    },
    {
     "name": "stdout",
     "output_type": "stream",
     "text": [
      "Experiment progress: 0.2%:  "
     ]
    },
    {
     "name": "stderr",
     "output_type": "stream",
     "text": [
      "Experiment Number:  22%|██▏       | 22/100 [10:29<37:19, 28.71s/it]"
     ]
    },
    {
     "name": "stdout",
     "output_type": "stream",
     "text": [
      "Experiment progress: 0.21%:  "
     ]
    },
    {
     "name": "stderr",
     "output_type": "stream",
     "text": [
      "Experiment Number:  23%|██▎       | 23/100 [10:58<36:51, 28.72s/it]"
     ]
    },
    {
     "name": "stdout",
     "output_type": "stream",
     "text": [
      "Experiment progress: 0.22%:  "
     ]
    },
    {
     "name": "stderr",
     "output_type": "stream",
     "text": [
      "Experiment Number:  24%|██▍       | 24/100 [11:26<36:21, 28.70s/it]"
     ]
    },
    {
     "name": "stdout",
     "output_type": "stream",
     "text": [
      "Experiment progress: 0.23%:  "
     ]
    },
    {
     "name": "stderr",
     "output_type": "stream",
     "text": [
      "Experiment Number:  25%|██▌       | 25/100 [11:55<35:50, 28.68s/it]"
     ]
    },
    {
     "name": "stdout",
     "output_type": "stream",
     "text": [
      "Experiment progress: 0.24%:  "
     ]
    },
    {
     "name": "stderr",
     "output_type": "stream",
     "text": [
      "Experiment Number:  26%|██▌       | 26/100 [12:24<35:23, 28.69s/it]"
     ]
    },
    {
     "name": "stdout",
     "output_type": "stream",
     "text": [
      "Experiment progress: 0.25%:  "
     ]
    },
    {
     "name": "stderr",
     "output_type": "stream",
     "text": [
      "Experiment Number:  27%|██▋       | 27/100 [12:52<34:53, 28.67s/it]"
     ]
    },
    {
     "name": "stdout",
     "output_type": "stream",
     "text": [
      "Experiment progress: 0.26%:  "
     ]
    },
    {
     "name": "stderr",
     "output_type": "stream",
     "text": [
      "Experiment Number:  28%|██▊       | 28/100 [13:21<34:25, 28.69s/it]"
     ]
    },
    {
     "name": "stdout",
     "output_type": "stream",
     "text": [
      "Experiment progress: 0.27%:  "
     ]
    },
    {
     "name": "stderr",
     "output_type": "stream",
     "text": [
      "Experiment Number:  29%|██▉       | 29/100 [13:50<33:57, 28.70s/it]"
     ]
    },
    {
     "name": "stdout",
     "output_type": "stream",
     "text": [
      "Experiment progress: 0.28%:  "
     ]
    },
    {
     "name": "stderr",
     "output_type": "stream",
     "text": [
      "Experiment Number:  30%|███       | 30/100 [14:18<33:29, 28.71s/it]"
     ]
    },
    {
     "name": "stdout",
     "output_type": "stream",
     "text": [
      "Experiment progress: 0.29%:  "
     ]
    },
    {
     "name": "stderr",
     "output_type": "stream",
     "text": [
      "Experiment Number:  31%|███       | 31/100 [14:47<33:00, 28.71s/it]"
     ]
    },
    {
     "name": "stdout",
     "output_type": "stream",
     "text": [
      "Experiment progress: 0.3%:  "
     ]
    },
    {
     "name": "stderr",
     "output_type": "stream",
     "text": [
      "Experiment Number:  32%|███▏      | 32/100 [15:16<32:36, 28.77s/it]"
     ]
    },
    {
     "name": "stdout",
     "output_type": "stream",
     "text": [
      "Experiment progress: 0.31%:  "
     ]
    },
    {
     "name": "stderr",
     "output_type": "stream",
     "text": [
      "Experiment Number:  33%|███▎      | 33/100 [15:46<32:24, 29.03s/it]"
     ]
    },
    {
     "name": "stdout",
     "output_type": "stream",
     "text": [
      "Experiment progress: 0.32%:  "
     ]
    },
    {
     "name": "stderr",
     "output_type": "stream",
     "text": [
      "Experiment Number:  34%|███▍      | 34/100 [16:15<32:01, 29.11s/it]"
     ]
    },
    {
     "name": "stdout",
     "output_type": "stream",
     "text": [
      "Experiment progress: 0.33%:  "
     ]
    },
    {
     "name": "stderr",
     "output_type": "stream",
     "text": [
      "Experiment Number:  35%|███▌      | 35/100 [16:44<31:37, 29.19s/it]"
     ]
    },
    {
     "name": "stdout",
     "output_type": "stream",
     "text": [
      "Experiment progress: 0.34%:  "
     ]
    },
    {
     "name": "stderr",
     "output_type": "stream",
     "text": [
      "Experiment Number:  36%|███▌      | 36/100 [17:14<31:11, 29.24s/it]"
     ]
    },
    {
     "name": "stdout",
     "output_type": "stream",
     "text": [
      "Experiment progress: 0.35%:  "
     ]
    },
    {
     "name": "stderr",
     "output_type": "stream",
     "text": [
      "Experiment Number:  37%|███▋      | 37/100 [17:43<30:36, 29.16s/it]"
     ]
    },
    {
     "name": "stdout",
     "output_type": "stream",
     "text": [
      "Experiment progress: 0.36%:  "
     ]
    },
    {
     "name": "stderr",
     "output_type": "stream",
     "text": [
      "Experiment Number:  38%|███▊      | 38/100 [18:12<30:11, 29.21s/it]"
     ]
    },
    {
     "name": "stdout",
     "output_type": "stream",
     "text": [
      "Experiment progress: 0.37%:  "
     ]
    },
    {
     "name": "stderr",
     "output_type": "stream",
     "text": [
      "Experiment Number:  39%|███▉      | 39/100 [18:41<29:37, 29.14s/it]"
     ]
    },
    {
     "name": "stdout",
     "output_type": "stream",
     "text": [
      "Experiment progress: 0.38%:  "
     ]
    },
    {
     "name": "stderr",
     "output_type": "stream",
     "text": [
      "Experiment Number:  40%|████      | 40/100 [19:10<29:08, 29.14s/it]"
     ]
    },
    {
     "name": "stdout",
     "output_type": "stream",
     "text": [
      "Experiment progress: 0.39%:  "
     ]
    },
    {
     "name": "stderr",
     "output_type": "stream",
     "text": [
      "Experiment Number:  41%|████      | 41/100 [19:39<28:33, 29.04s/it]"
     ]
    },
    {
     "name": "stdout",
     "output_type": "stream",
     "text": [
      "Experiment progress: 0.4%:  "
     ]
    },
    {
     "name": "stderr",
     "output_type": "stream",
     "text": [
      "Experiment Number:  42%|████▏     | 42/100 [20:08<28:01, 28.99s/it]"
     ]
    },
    {
     "name": "stdout",
     "output_type": "stream",
     "text": [
      "Experiment progress: 0.41%:  "
     ]
    },
    {
     "name": "stderr",
     "output_type": "stream",
     "text": [
      "Experiment Number:  43%|████▎     | 43/100 [20:36<27:26, 28.89s/it]"
     ]
    },
    {
     "name": "stdout",
     "output_type": "stream",
     "text": [
      "Experiment progress: 0.42%:  "
     ]
    },
    {
     "name": "stderr",
     "output_type": "stream",
     "text": [
      "Experiment Number:  44%|████▍     | 44/100 [21:05<26:53, 28.81s/it]"
     ]
    },
    {
     "name": "stdout",
     "output_type": "stream",
     "text": [
      "Experiment progress: 0.43%:  "
     ]
    },
    {
     "name": "stderr",
     "output_type": "stream",
     "text": [
      "Experiment Number:  45%|████▌     | 45/100 [21:34<26:20, 28.73s/it]"
     ]
    },
    {
     "name": "stdout",
     "output_type": "stream",
     "text": [
      "Experiment progress: 0.44%:  "
     ]
    },
    {
     "name": "stderr",
     "output_type": "stream",
     "text": [
      "Experiment Number:  46%|████▌     | 46/100 [22:02<25:49, 28.70s/it]"
     ]
    },
    {
     "name": "stdout",
     "output_type": "stream",
     "text": [
      "Experiment progress: 0.45%:  "
     ]
    },
    {
     "name": "stderr",
     "output_type": "stream",
     "text": [
      "Experiment Number:  47%|████▋     | 47/100 [22:31<25:18, 28.64s/it]"
     ]
    },
    {
     "name": "stdout",
     "output_type": "stream",
     "text": [
      "Experiment progress: 0.46%:  "
     ]
    },
    {
     "name": "stderr",
     "output_type": "stream",
     "text": [
      "Experiment Number:  48%|████▊     | 48/100 [22:59<24:46, 28.59s/it]"
     ]
    },
    {
     "name": "stdout",
     "output_type": "stream",
     "text": [
      "Experiment progress: 0.47%:  "
     ]
    },
    {
     "name": "stderr",
     "output_type": "stream",
     "text": [
      "Experiment Number:  49%|████▉     | 49/100 [23:28<24:16, 28.56s/it]"
     ]
    },
    {
     "name": "stdout",
     "output_type": "stream",
     "text": [
      "Experiment progress: 0.48%:  "
     ]
    },
    {
     "name": "stderr",
     "output_type": "stream",
     "text": [
      "Experiment Number:  50%|█████     | 50/100 [23:56<23:47, 28.55s/it]"
     ]
    },
    {
     "name": "stdout",
     "output_type": "stream",
     "text": [
      "Experiment progress: 0.49%:  "
     ]
    },
    {
     "name": "stderr",
     "output_type": "stream",
     "text": [
      "Experiment Number:  51%|█████     | 51/100 [24:25<23:22, 28.62s/it]"
     ]
    },
    {
     "name": "stdout",
     "output_type": "stream",
     "text": [
      "Experiment progress: 0.5%:  "
     ]
    },
    {
     "name": "stderr",
     "output_type": "stream",
     "text": [
      "Experiment Number:  52%|█████▏    | 52/100 [24:54<23:01, 28.79s/it]"
     ]
    },
    {
     "name": "stdout",
     "output_type": "stream",
     "text": [
      "Experiment progress: 0.51%:  "
     ]
    },
    {
     "name": "stderr",
     "output_type": "stream",
     "text": [
      "Experiment Number:  53%|█████▎    | 53/100 [25:23<22:33, 28.81s/it]"
     ]
    },
    {
     "name": "stdout",
     "output_type": "stream",
     "text": [
      "Experiment progress: 0.52%:  "
     ]
    },
    {
     "name": "stderr",
     "output_type": "stream",
     "text": [
      "Experiment Number:  54%|█████▍    | 54/100 [25:52<22:05, 28.82s/it]"
     ]
    },
    {
     "name": "stdout",
     "output_type": "stream",
     "text": [
      "Experiment progress: 0.53%:  "
     ]
    },
    {
     "name": "stderr",
     "output_type": "stream",
     "text": [
      "Experiment Number:  55%|█████▌    | 55/100 [26:21<21:36, 28.82s/it]"
     ]
    },
    {
     "name": "stdout",
     "output_type": "stream",
     "text": [
      "Experiment progress: 0.54%:  "
     ]
    },
    {
     "name": "stderr",
     "output_type": "stream",
     "text": [
      "Experiment Number:  56%|█████▌    | 56/100 [26:49<21:06, 28.78s/it]"
     ]
    },
    {
     "name": "stdout",
     "output_type": "stream",
     "text": [
      "Experiment progress: 0.55%:  "
     ]
    },
    {
     "name": "stderr",
     "output_type": "stream",
     "text": [
      "Experiment Number:  57%|█████▋    | 57/100 [27:18<20:35, 28.74s/it]"
     ]
    },
    {
     "name": "stdout",
     "output_type": "stream",
     "text": [
      "Experiment progress: 0.56%:  "
     ]
    },
    {
     "name": "stderr",
     "output_type": "stream",
     "text": [
      "Experiment Number:  58%|█████▊    | 58/100 [27:47<20:05, 28.71s/it]"
     ]
    },
    {
     "name": "stdout",
     "output_type": "stream",
     "text": [
      "Experiment progress: 0.57%:  "
     ]
    },
    {
     "name": "stderr",
     "output_type": "stream",
     "text": [
      "Experiment Number:  59%|█████▉    | 59/100 [28:15<19:36, 28.69s/it]"
     ]
    },
    {
     "name": "stdout",
     "output_type": "stream",
     "text": [
      "Experiment progress: 0.58%:  "
     ]
    },
    {
     "name": "stderr",
     "output_type": "stream",
     "text": [
      "Experiment Number:  60%|██████    | 60/100 [28:44<19:07, 28.68s/it]"
     ]
    },
    {
     "name": "stdout",
     "output_type": "stream",
     "text": [
      "Experiment progress: 0.59%:  "
     ]
    },
    {
     "name": "stderr",
     "output_type": "stream",
     "text": [
      "Experiment Number:  61%|██████    | 61/100 [29:13<18:38, 28.67s/it]"
     ]
    },
    {
     "name": "stdout",
     "output_type": "stream",
     "text": [
      "Experiment progress: 0.6%:  "
     ]
    },
    {
     "name": "stderr",
     "output_type": "stream",
     "text": [
      "Experiment Number:  62%|██████▏   | 62/100 [29:41<18:08, 28.64s/it]"
     ]
    },
    {
     "name": "stdout",
     "output_type": "stream",
     "text": [
      "Experiment progress: 0.61%:  "
     ]
    },
    {
     "name": "stderr",
     "output_type": "stream",
     "text": [
      "Experiment Number:  63%|██████▎   | 63/100 [30:10<17:40, 28.67s/it]"
     ]
    },
    {
     "name": "stdout",
     "output_type": "stream",
     "text": [
      "Experiment progress: 0.62%:  "
     ]
    },
    {
     "name": "stderr",
     "output_type": "stream",
     "text": [
      "Experiment Number:  64%|██████▍   | 64/100 [30:39<17:12, 28.68s/it]"
     ]
    },
    {
     "name": "stdout",
     "output_type": "stream",
     "text": [
      "Experiment progress: 0.63%:  "
     ]
    },
    {
     "name": "stderr",
     "output_type": "stream",
     "text": [
      "Experiment Number:  65%|██████▌   | 65/100 [31:07<16:43, 28.66s/it]"
     ]
    },
    {
     "name": "stdout",
     "output_type": "stream",
     "text": [
      "Experiment progress: 0.64%:  "
     ]
    },
    {
     "name": "stderr",
     "output_type": "stream",
     "text": [
      "Experiment Number:  66%|██████▌   | 66/100 [31:36<16:13, 28.64s/it]"
     ]
    },
    {
     "name": "stdout",
     "output_type": "stream",
     "text": [
      "Experiment progress: 0.65%:  "
     ]
    },
    {
     "name": "stderr",
     "output_type": "stream",
     "text": [
      "Experiment Number:  67%|██████▋   | 67/100 [32:04<15:45, 28.64s/it]"
     ]
    },
    {
     "name": "stdout",
     "output_type": "stream",
     "text": [
      "Experiment progress: 0.66%:  "
     ]
    },
    {
     "name": "stderr",
     "output_type": "stream",
     "text": [
      "Experiment Number:  68%|██████▊   | 68/100 [32:33<15:15, 28.62s/it]"
     ]
    },
    {
     "name": "stdout",
     "output_type": "stream",
     "text": [
      "Experiment progress: 0.67%:  "
     ]
    },
    {
     "name": "stderr",
     "output_type": "stream",
     "text": [
      "Experiment Number:  69%|██████▉   | 69/100 [33:02<14:46, 28.61s/it]"
     ]
    },
    {
     "name": "stdout",
     "output_type": "stream",
     "text": [
      "Experiment progress: 0.68%:  "
     ]
    },
    {
     "name": "stderr",
     "output_type": "stream",
     "text": [
      "Experiment Number:  70%|███████   | 70/100 [33:30<14:17, 28.59s/it]"
     ]
    },
    {
     "name": "stdout",
     "output_type": "stream",
     "text": [
      "Experiment progress: 0.69%:  "
     ]
    },
    {
     "name": "stderr",
     "output_type": "stream",
     "text": [
      "Experiment Number:  71%|███████   | 71/100 [33:59<13:49, 28.60s/it]"
     ]
    },
    {
     "name": "stdout",
     "output_type": "stream",
     "text": [
      "Experiment progress: 0.7%:  "
     ]
    },
    {
     "name": "stderr",
     "output_type": "stream",
     "text": [
      "Experiment Number:  72%|███████▏  | 72/100 [34:27<13:20, 28.61s/it]"
     ]
    },
    {
     "name": "stdout",
     "output_type": "stream",
     "text": [
      "Experiment progress: 0.71%:  "
     ]
    },
    {
     "name": "stderr",
     "output_type": "stream",
     "text": [
      "Experiment Number:  73%|███████▎  | 73/100 [34:56<12:51, 28.57s/it]"
     ]
    },
    {
     "name": "stdout",
     "output_type": "stream",
     "text": [
      "Experiment progress: 0.72%:  "
     ]
    },
    {
     "name": "stderr",
     "output_type": "stream",
     "text": [
      "Experiment Number:  74%|███████▍  | 74/100 [35:25<12:23, 28.58s/it]"
     ]
    },
    {
     "name": "stdout",
     "output_type": "stream",
     "text": [
      "Experiment progress: 0.73%:  "
     ]
    },
    {
     "name": "stderr",
     "output_type": "stream",
     "text": [
      "Experiment Number:  75%|███████▌  | 75/100 [35:53<11:54, 28.58s/it]"
     ]
    },
    {
     "name": "stdout",
     "output_type": "stream",
     "text": [
      "Experiment progress: 0.74%:  "
     ]
    },
    {
     "name": "stderr",
     "output_type": "stream",
     "text": [
      "Experiment Number:  76%|███████▌  | 76/100 [36:22<11:25, 28.57s/it]"
     ]
    },
    {
     "name": "stdout",
     "output_type": "stream",
     "text": [
      "Experiment progress: 0.75%:  "
     ]
    },
    {
     "name": "stderr",
     "output_type": "stream",
     "text": [
      "Experiment Number:  77%|███████▋  | 77/100 [36:50<10:56, 28.56s/it]"
     ]
    },
    {
     "name": "stdout",
     "output_type": "stream",
     "text": [
      "Experiment progress: 0.76%:  "
     ]
    },
    {
     "name": "stderr",
     "output_type": "stream",
     "text": [
      "Experiment Number:  78%|███████▊  | 78/100 [37:19<10:27, 28.50s/it]"
     ]
    },
    {
     "name": "stdout",
     "output_type": "stream",
     "text": [
      "Experiment progress: 0.77%:  "
     ]
    },
    {
     "name": "stderr",
     "output_type": "stream",
     "text": [
      "Experiment Number:  79%|███████▉  | 79/100 [37:47<09:58, 28.48s/it]"
     ]
    },
    {
     "name": "stdout",
     "output_type": "stream",
     "text": [
      "Experiment progress: 0.78%:  "
     ]
    },
    {
     "name": "stderr",
     "output_type": "stream",
     "text": [
      "Experiment Number:  80%|████████  | 80/100 [38:15<09:28, 28.44s/it]"
     ]
    },
    {
     "name": "stdout",
     "output_type": "stream",
     "text": [
      "Experiment progress: 0.79%:  "
     ]
    },
    {
     "name": "stderr",
     "output_type": "stream",
     "text": [
      "Experiment Number:  81%|████████  | 81/100 [38:44<09:00, 28.44s/it]"
     ]
    },
    {
     "name": "stdout",
     "output_type": "stream",
     "text": [
      "Experiment progress: 0.8%:  "
     ]
    },
    {
     "name": "stderr",
     "output_type": "stream",
     "text": [
      "Experiment Number:  82%|████████▏ | 82/100 [39:12<08:32, 28.46s/it]"
     ]
    },
    {
     "name": "stdout",
     "output_type": "stream",
     "text": [
      "Experiment progress: 0.81%:  "
     ]
    },
    {
     "name": "stderr",
     "output_type": "stream",
     "text": [
      "Experiment Number:  83%|████████▎ | 83/100 [39:41<08:04, 28.47s/it]"
     ]
    },
    {
     "name": "stdout",
     "output_type": "stream",
     "text": [
      "Experiment progress: 0.82%:  "
     ]
    },
    {
     "name": "stderr",
     "output_type": "stream",
     "text": [
      "Experiment Number:  84%|████████▍ | 84/100 [40:09<07:35, 28.49s/it]"
     ]
    },
    {
     "name": "stdout",
     "output_type": "stream",
     "text": [
      "Experiment progress: 0.83%:  "
     ]
    },
    {
     "name": "stderr",
     "output_type": "stream",
     "text": [
      "Experiment Number:  85%|████████▌ | 85/100 [40:38<07:07, 28.47s/it]"
     ]
    },
    {
     "name": "stdout",
     "output_type": "stream",
     "text": [
      "Experiment progress: 0.84%:  "
     ]
    },
    {
     "name": "stderr",
     "output_type": "stream",
     "text": [
      "Experiment Number:  86%|████████▌ | 86/100 [41:06<06:38, 28.44s/it]"
     ]
    },
    {
     "name": "stdout",
     "output_type": "stream",
     "text": [
      "Experiment progress: 0.85%:  "
     ]
    },
    {
     "name": "stderr",
     "output_type": "stream",
     "text": [
      "Experiment Number:  87%|████████▋ | 87/100 [41:35<06:10, 28.49s/it]"
     ]
    },
    {
     "name": "stdout",
     "output_type": "stream",
     "text": [
      "Experiment progress: 0.86%:  "
     ]
    },
    {
     "name": "stderr",
     "output_type": "stream",
     "text": [
      "Experiment Number:  88%|████████▊ | 88/100 [42:03<05:41, 28.48s/it]"
     ]
    },
    {
     "name": "stdout",
     "output_type": "stream",
     "text": [
      "Experiment progress: 0.87%:  "
     ]
    },
    {
     "name": "stderr",
     "output_type": "stream",
     "text": [
      "Experiment Number:  89%|████████▉ | 89/100 [42:32<05:13, 28.47s/it]"
     ]
    },
    {
     "name": "stdout",
     "output_type": "stream",
     "text": [
      "Experiment progress: 0.88%:  "
     ]
    },
    {
     "name": "stderr",
     "output_type": "stream",
     "text": [
      "Experiment Number:  90%|█████████ | 90/100 [43:00<04:44, 28.49s/it]"
     ]
    },
    {
     "name": "stdout",
     "output_type": "stream",
     "text": [
      "Experiment progress: 0.89%:  "
     ]
    },
    {
     "name": "stderr",
     "output_type": "stream",
     "text": [
      "Experiment Number:  91%|█████████ | 91/100 [43:29<04:16, 28.55s/it]"
     ]
    },
    {
     "name": "stdout",
     "output_type": "stream",
     "text": [
      "Experiment progress: 0.9%:  "
     ]
    },
    {
     "name": "stderr",
     "output_type": "stream",
     "text": [
      "Experiment Number:  92%|█████████▏| 92/100 [43:57<03:48, 28.53s/it]"
     ]
    },
    {
     "name": "stdout",
     "output_type": "stream",
     "text": [
      "Experiment progress: 0.91%:  "
     ]
    },
    {
     "name": "stderr",
     "output_type": "stream",
     "text": [
      "Experiment Number:  93%|█████████▎| 93/100 [44:26<03:19, 28.54s/it]"
     ]
    },
    {
     "name": "stdout",
     "output_type": "stream",
     "text": [
      "Experiment progress: 0.92%:  "
     ]
    },
    {
     "name": "stderr",
     "output_type": "stream",
     "text": [
      "Experiment Number:  94%|█████████▍| 94/100 [44:54<02:51, 28.54s/it]"
     ]
    },
    {
     "name": "stdout",
     "output_type": "stream",
     "text": [
      "Experiment progress: 0.93%:  "
     ]
    },
    {
     "name": "stderr",
     "output_type": "stream",
     "text": [
      "Experiment Number:  95%|█████████▌| 95/100 [45:23<02:22, 28.49s/it]"
     ]
    },
    {
     "name": "stdout",
     "output_type": "stream",
     "text": [
      "Experiment progress: 0.94%:  "
     ]
    },
    {
     "name": "stderr",
     "output_type": "stream",
     "text": [
      "Experiment Number:  96%|█████████▌| 96/100 [45:51<01:54, 28.51s/it]"
     ]
    },
    {
     "name": "stdout",
     "output_type": "stream",
     "text": [
      "Experiment progress: 0.95%:  "
     ]
    },
    {
     "name": "stderr",
     "output_type": "stream",
     "text": [
      "Experiment Number:  97%|█████████▋| 97/100 [46:20<01:25, 28.52s/it]"
     ]
    },
    {
     "name": "stdout",
     "output_type": "stream",
     "text": [
      "Experiment progress: 0.96%:  "
     ]
    },
    {
     "name": "stderr",
     "output_type": "stream",
     "text": [
      "Experiment Number:  98%|█████████▊| 98/100 [46:48<00:57, 28.52s/it]"
     ]
    },
    {
     "name": "stdout",
     "output_type": "stream",
     "text": [
      "Experiment progress: 0.97%:  "
     ]
    },
    {
     "name": "stderr",
     "output_type": "stream",
     "text": [
      "Experiment Number:  99%|█████████▉| 99/100 [47:17<00:28, 28.53s/it]"
     ]
    },
    {
     "name": "stdout",
     "output_type": "stream",
     "text": [
      "Experiment progress: 0.98%:  "
     ]
    },
    {
     "name": "stderr",
     "output_type": "stream",
     "text": [
      "Experiment Number: 100%|██████████| 100/100 [47:46<00:00, 28.66s/it]"
     ]
    },
    {
     "name": "stdout",
     "output_type": "stream",
     "text": [
      "Experiment progress: 0.99%:  "
     ]
    },
    {
     "name": "stderr",
     "output_type": "stream",
     "text": [
      "\n"
     ]
    }
   ],
   "source": [
    "instance = TS.CSMABInstance(u, T, m, my_generator, num_exp, diffeps=True)\n",
    "instance.simulate(rewards, available_arms)"
   ]
  },
  {
   "cell_type": "code",
   "execution_count": 7,
   "id": "0d085445-d226-49d3-b414-cf0294e3a9c5",
   "metadata": {},
   "outputs": [
    {
     "data": {
      "image/png": "[encoded data removed]",
      "text/plain": [
       "<Figure size 640x480 with 1 Axes>"
      ]
     },
     "metadata": {},
     "output_type": "display_data"
    }
   ],
   "source": [
    "instance.markers = {\n",
    "                    r'CTS-G ($\\gamma = 0.01$)': 'o',\n",
    "                    r'CTS-B': '8',\n",
    "                    r'CombUCB': 'x',\n",
    "                    r'CTS-G ($\\gamma = 0.1$)': 'h',\n",
    "                    r'CTS-G ($\\gamma = 0.5$)': 'H',\n",
    "                    r'CTS-G ($\\gamma = 1$)': '*',\n",
    "                    r'CL-SG ($\\gamma = 0.01$)': 'v',\n",
    "                    r'CL-SG ($\\gamma = 0.1$)': 'd',\n",
    "                    r'CL-SG ($\\gamma = 0.5$)': '<',\n",
    "                    r'CL-SG ($\\gamma = 1$)': '>',\n",
    "                    r'CL-LG ($\\gamma = 0.01$)': '^',\n",
    "                    r'CL-LG ($\\gamma = 0.1$)': 's',\n",
    "                    r'CL-LG ($\\gamma = 0.5$)': 'p',\n",
    "                    r'CL-LG ($\\gamma = 1$)': 'P',\n",
    "                }\n",
    "instance.algorithms = {\n",
    "                    r'CTS-G ($\\gamma = 0.1$)': TS.CombTS_Basic(m, N, more_child_rngs[0], False, epsi = 0.01),  # TS with beta prior\n",
    "                    r'CL-SG ($\\gamma = 0.1$)': TS.CombTS_Basic(m, N, more_child_rngs[2], False, epsi = 0.1),  # TS with normal prior\n",
    "                    r'CombUCB': TS.CombTS_Basic(m, N, more_child_rngs[3], False, epsi = 0.5),  # TS with normal prior\n",
    "                    r'CTS-B': TS.CombTS_Basic(m, N, more_child_rngs[4], False, epsi = 1),  # TS with normal prior (single seed)\n",
    "                }\n",
    "instance.plot_regrets(errorbar=True, \n",
    "                        filename=\"./results/CSMAB_regrets_10arms_Bernoulli.pdf\", \n",
    "                        pltlow_bound = False, legend=True)"
   ]
  },
  {
   "cell_type": "code",
   "execution_count": 8,
   "id": "9c3380a4-1d8e-41ec-b7d9-2ea6cfc11e47",
   "metadata": {},
   "outputs": [
    {
     "data": {
      "image/png": "[encoded data removed]",
      "text/plain": [
       "<Figure size 640x480 with 1 Axes>"
      ]
     },
     "metadata": {},
     "output_type": "display_data"
    }
   ],
   "source": [
    "instance.algorithms = {\n",
    "                    r'CTS-G ($\\gamma = 0.1$)': TS.CombTS_Basic(m, N, more_child_rngs[0], False, epsi = 0.01),  # TS with beta prior\n",
    "                    r'CL-SG ($\\gamma = 0.1$)': TS.CombTS_Basic(m, N, more_child_rngs[2], False, epsi = 0.1),  # TS with normal prior\n",
    "                    r'CL-LG ($\\gamma = 0.1$)': TS.CombTS_Basic(m, N, more_child_rngs[2], False, epsi = 0.1),  # TS with normal prior\n",
    "                    r'CombUCB': TS.CombTS_Basic(m, N, more_child_rngs[3], False, epsi = 0.5),  # TS with normal prior\n",
    "                    r'CTS-B': TS.CombTS_Basic(m, N, more_child_rngs[4], False, epsi = 1),  # TS with normal prior (single seed)\n",
    "                }\n",
    "instance.plot_regrets(errorbar=True, \n",
    "                        filename=\"./results/CSMAB_regrets_10arms_Bernoulli_all.pdf\", \n",
    "                        pltlow_bound = False, legend=True)\n"
   ]
  },
  {
   "cell_type": "code",
   "execution_count": 9,
   "id": "65ec4bec-08d2-4c95-a011-a9a2e404fcb6",
   "metadata": {},
   "outputs": [
    {
     "data": {
      "image/png": "[encoded data removed]",
      "text/plain": [
       "<Figure size 640x480 with 1 Axes>"
      ]
     },
     "metadata": {},
     "output_type": "display_data"
    }
   ],
   "source": [
    "instance.algorithms = {\n",
    "                    r'CTS-G ($\\gamma = 0.01$)': TS.CombTS_Basic(m, N, more_child_rngs[0], False, epsi = 0.01),  # TS with beta prior\n",
    "                    r'CTS-G ($\\gamma = 0.1$)': TS.CombTS_Basic(m, N, more_child_rngs[2], False, epsi = 0.1),  # TS with normal prior\n",
    "                    r'CTS-G ($\\gamma = 0.5$)': TS.CombTS_Basic(m, N, more_child_rngs[3], False, epsi = 0.5),  # TS with normal prior\n",
    "                    r'CTS-G ($\\gamma = 1$)': TS.CombTS_Basic(m, N, more_child_rngs[4], False, epsi = 1),  # TS with normal prior (single seed)\n",
    "                }\n",
    "instance.plot_regrets(errorbar=True, \n",
    "                        filename=\"./results/CSMAB_regrets_10arms_diffgamma_CTS_G.pdf\", \n",
    "                        pltlow_bound = False, legend=True)"
   ]
  },
  {
   "cell_type": "code",
   "execution_count": 10,
   "id": "6ff784f7-af8d-4cd0-bbfd-d0f1f20137d2",
   "metadata": {},
   "outputs": [
    {
     "data": {
      "image/png": "[encoded data removed]",
      "text/plain": [
       "<Figure size 640x480 with 1 Axes>"
      ]
     },
     "metadata": {},
     "output_type": "display_data"
    }
   ],
   "source": [
    "instance.algorithms = {\n",
    "                    r'CL-SG ($\\gamma = 0.01$)':TS.CombTS_Single(m, N, more_child_rngs[5], False, epsi = 0.01),\n",
    "                    r'CL-SG ($\\gamma = 0.1$)': TS.CombTS_Single(m, N, more_child_rngs[6], False, epsi = 0.1),\n",
    "                    r'CL-SG ($\\gamma = 0.5$)': TS.CombTS_Single(m, N, more_child_rngs[7], False, epsi = 0.5),\n",
    "                    r'CL-SG ($\\gamma = 1$)': TS.CombTS_Single(m, N, more_child_rngs[8], False, epsi = 1),\n",
    "                }\n",
    "instance.plot_regrets(errorbar=True, \n",
    "                        filename=\"./results/CSMAB_regrets_10arms_diffgamma_CL_SG.pdf\", \n",
    "                        pltlow_bound = False, legend=True)"
   ]
  },
  {
   "cell_type": "code",
   "execution_count": 11,
   "id": "7184c1b9-05b3-4aca-875f-853924732ea9",
   "metadata": {},
   "outputs": [
    {
     "data": {
      "image/png": "[encoded data removed]",
      "text/plain": [
       "<Figure size 640x480 with 1 Axes>"
      ]
     },
     "metadata": {},
     "output_type": "display_data"
    }
   ],
   "source": [
    "instance.algorithms = {\n",
    "                    r'CL-LG ($\\gamma = 0.01$)':TS.CombTS_Single(m, N, more_child_rngs[9], False, True, epsi = 0.01),\n",
    "                    r'CL-LG ($\\gamma = 0.1$)': TS.CombTS_Single(m, N, more_child_rngs[10], False, True, epsi = 0.1),\n",
    "                    r'CL-LG ($\\gamma = 0.5$)': TS.CombTS_Single(m, N, more_child_rngs[11], False, True, epsi = 0.5),\n",
    "                    r'CL-LG ($\\gamma = 1$)': TS.CombTS_Single(m, N, more_child_rngs[12], False, True, epsi = 1),\n",
    "                }\n",
    "instance.plot_regrets(errorbar=True, \n",
    "                        filename=\"./results/CSMAB_regrets_10arms_diffgamma_CL_LG.pdf\", \n",
    "                        pltlow_bound = False, legend=True)"
   ]
  },
  {
   "cell_type": "code",
   "execution_count": 12,
   "id": "afea1d4d-bbae-4faa-8304-c414857aad63",
   "metadata": {},
   "outputs": [
    {
     "data": {
      "image/png": "[encoded data removed]",
      "text/plain": [
       "<Figure size 640x480 with 1 Axes>"
      ]
     },
     "metadata": {},
     "output_type": "display_data"
    }
   ],
   "source": [
    "instance.algorithms = {\n",
    "                    r'CTS-G ($\\gamma = 0.01$)':TS.CombTS_Single(m, N, more_child_rngs[9], False, True, epsi = 0.01),\n",
    "                    r'CL-SG ($\\gamma = 0.1$)': TS.CombTS_Single(m, N, more_child_rngs[10], False, True, epsi = 0.1),\n",
    "                    r'CL-LG ($\\gamma = 0.01$)': TS.CombTS_Single(m, N, more_child_rngs[11], False, True, epsi = 0.5),\n",
    "                }\n",
    "instance.plot_regrets(errorbar=True, \n",
    "                        filename=\"./results/CSMAB_regrets_10arms_diffgamma_all001.pdf\", \n",
    "                        pltlow_bound = False, legend=True)"
   ]
  },
  {
   "cell_type": "code",
   "execution_count": 14,
   "id": "f43a2483-463a-4b7e-815d-dc226c41843b",
   "metadata": {},
   "outputs": [
    {
     "data": {
      "image/png": "[encoded data removed]",
      "text/plain": [
       "<Figure size 640x480 with 1 Axes>"
      ]
     },
     "metadata": {},
     "output_type": "display_data"
    }
   ],
   "source": [
    "instance.algorithms = {\n",
    "                    r'CTS-G ($\\gamma = 0.01$)':TS.CombTS_Single(m, N, more_child_rngs[9], False, True, epsi = 0.01),\n",
    "                    r'CL-SG ($\\gamma = 0.1$)': TS.CombTS_Single(m, N, more_child_rngs[10], False, True, epsi = 0.1),\n",
    "                    r'CL-LG ($\\gamma = 0.5$)': TS.CombTS_Single(m, N, more_child_rngs[11], False, True, epsi = 0.5),\n",
    "                }\n",
    "instance.plot_regrets(errorbar=True, \n",
    "                        filename=\"./results/CSMAB_regrets_10arms_diffgamma_all.pdf\", \n",
    "                        pltlow_bound = False, legend=True)"
   ]
  },
  {
   "cell_type": "code",
   "execution_count": null,
   "id": "dd147a18",
   "metadata": {},
   "outputs": [],
   "source": []
  }
 ],
 "metadata": {
  "kernelspec": {
   "display_name": "Python 3.11",
   "language": "python",
   "name": "python3"
  },
  "language_info": {
   "codemirror_mode": {
    "name": "ipython",
    "version": 3
   },
   "file_extension": ".py",
   "mimetype": "text/x-python",
   "name": "python",
   "nbconvert_exporter": "python",
   "pygments_lexer": "ipython3",
   "version": "3.11.5"
  }
 },
 "nbformat": 4,
 "nbformat_minor": 5
}
