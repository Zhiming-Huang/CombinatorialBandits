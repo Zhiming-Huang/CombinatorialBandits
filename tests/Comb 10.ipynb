{
 "cells": [
  {
   "cell_type": "code",
   "execution_count": 1,
   "id": "740b3705-0bd8-479b-8d53-5b415c28cb44",
   "metadata": {},
   "outputs": [],
   "source": [
    "import sys\n",
    "import os\n",
    "import numpy as np\n",
    "\n",
    "project_root= os.path.dirname(os.path.abspath('.'))\n",
    "#project_root = os.path.dirname(current_directory)\n",
    "sys.path.append(project_root)\n",
    "\n",
    "\n"
   ]
  },
  {
   "cell_type": "code",
   "execution_count": 6,
   "id": "944011d5-2fc6-41e1-aa75-047c4f145d45",
   "metadata": {},
   "outputs": [
    {
     "name": "stdout",
     "output_type": "stream",
     "text": [
      "Looking in links: /cvmfs/soft.computecanada.ca/custom/python/wheelhouse/gentoo2023/x86-64-v3, /cvmfs/soft.computecanada.ca/custom/python/wheelhouse/gentoo2023/generic, /cvmfs/soft.computecanada.ca/custom/python/wheelhouse/generic\n",
      "Requirement already satisfied: scipy in /cvmfs/soft.computecanada.ca/easybuild/software/2023/x86-64-v3/Compiler/gcccore/scipy-stack/2023b/lib/python3.11/site-packages (1.11.2+computecanada)\n",
      "Requirement already satisfied: numpy<1.28.0,>=1.23 in /cvmfs/soft.computecanada.ca/easybuild/software/2023/x86-64-v3/Compiler/gcccore/scipy-stack/2023b/lib/python3.11/site-packages (from scipy) (1.25.2+computecanada)\n"
     ]
    }
   ],
   "source": [
    "#!pip install seaborn --no-index\n",
    "!pip install scipy --no-index"
   ]
  },
  {
   "cell_type": "code",
   "execution_count": 2,
   "id": "f95e3ec3-bc43-4cf7-bd6a-4c71a79ecd5f",
   "metadata": {},
   "outputs": [],
   "source": [
    "import src.TS as TS"
   ]
  },
  {
   "cell_type": "code",
   "execution_count": 3,
   "id": "6c36f57f-ce3e-4c57-854c-cac812fd39d4",
   "metadata": {},
   "outputs": [],
   "source": [
    "T = 100000\n",
    "my_generator = np.random.default_rng(12345)\n",
    "'''\n",
    "Generate mean value for 10 arms, the first 1 arm with mean value 0.9\n",
    "and rest with mean value uniformly generated from 0.8 to 0.85\n",
    "'''\n",
    "N = 10\n",
    "m = 3\n",
    "delta = np.sqrt(N*np.log(N)/T)\n",
    "u = np.array(np.full(m, 0.9).tolist() + np.full(N-m, 0.8).tolist())\n",
    "#u = [0.1,0.05,0.03,0.02,0.01]\n",
    "epsi = 1/len(u)\n",
    "num_exp = 100\n",
    "\n",
    "rewards = np.tile(u, (T, 1)).T #repeat the mean values for all arms T times\n",
    "\n",
    "u_aval = np.full(N, 0.5)\n",
    "available_arms = np.tile(u_aval, (T, 1)).T #repeat the mean values for all arms T times\n",
    "\n",
    "\n",
    "\n",
    "more_child_rngs = my_generator.spawn(14)"
   ]
  },
  {
   "cell_type": "code",
   "execution_count": null,
   "id": "97749a60-87b0-42f8-bba7-710b1b4c4daf",
   "metadata": {},
   "outputs": [
    {
     "name": "stderr",
     "output_type": "stream",
     "text": [
      "Experiment Number:   0%|          | 0/100 [00:00<?, ?it/s]"
     ]
    }
   ],
   "source": [
    "instance = TS.CSMABInstance(u, T, m, my_generator, num_exp, diffeps=True)\n",
    "instance.simulate(rewards, available_arms)"
   ]
  },
  {
   "cell_type": "code",
   "execution_count": null,
   "id": "0d085445-d226-49d3-b414-cf0294e3a9c5",
   "metadata": {},
   "outputs": [],
   "source": [
    "instance.markers = {\n",
    "                    r'CTS-G ($\\gamma = 0.01$)': 'o',\n",
    "                    r'CTS-B': '8',\n",
    "                    r'CombUCB': 'x',\n",
    "                    r'CTS-G ($\\gamma = 0.1$)': 'h',\n",
    "                    r'CTS-G ($\\gamma = 0.5$)': 'H',\n",
    "                    r'CTS-G ($\\gamma = 1$)': '*',\n",
    "                    r'CL-SG ($\\gamma = 0.01$)': 'v',\n",
    "                    r'CL-SG ($\\gamma = 0.1$)': 'd',\n",
    "                    r'CL-SG ($\\gamma = 0.5$)': '<',\n",
    "                    r'CL-SG ($\\gamma = 1$)': '>',\n",
    "                    r'CL-LG ($\\gamma = 0.01$)': '^',\n",
    "                    r'CL-LG ($\\gamma = 0.1$)': 's',\n",
    "                    r'CL-LG ($\\gamma = 0.5$)': 'p',\n",
    "                    r'CL-LG ($\\gamma = 1$)': 'P',\n",
    "                }\n",
    "instance.algorithms = {\n",
    "                    r'CTS-G ($\\gamma = 0.1$)': TS.CombTS_Basic(m, N, more_child_rngs[0], False, epsi = 0.01),  # TS with beta prior\n",
    "                    r'CL-SG ($\\gamma = 0.1$)': TS.CombTS_Basic(m, N, more_child_rngs[2], False, epsi = 0.1),  # TS with normal prior\n",
    "                    r'CombUCB': TS.CombTS_Basic(m, N, more_child_rngs[3], False, epsi = 0.5),  # TS with normal prior\n",
    "                    r'CTS-B': TS.CombTS_Basic(m, N, more_child_rngs[4], False, epsi = 1),  # TS with normal prior (single seed)\n",
    "                }\n",
    "instance.plot_regrets(errorbar=True, \n",
    "                        filename=\"./results/CSMAB_regrets_10arms_Bernoulli.pdf\", \n",
    "                        pltlow_bound = False, legend=True)"
   ]
  },
  {
   "cell_type": "code",
   "execution_count": null,
   "id": "9c3380a4-1d8e-41ec-b7d9-2ea6cfc11e47",
   "metadata": {},
   "outputs": [],
   "source": [
    "instance.algorithms = {\n",
    "                    r'CTS-G ($\\gamma = 0.1$)': TS.CombTS_Basic(m, N, more_child_rngs[0], False, epsi = 0.01),  # TS with beta prior\n",
    "                    r'CL-SG ($\\gamma = 0.1$)': TS.CombTS_Basic(m, N, more_child_rngs[2], False, epsi = 0.1),  # TS with normal prior\n",
    "                    r'CL-LG ($\\gamma = 0.1$)': TS.CombTS_Basic(m, N, more_child_rngs[2], False, epsi = 0.1),  # TS with normal prior\n",
    "                    r'CombUCB': TS.CombTS_Basic(m, N, more_child_rngs[3], False, epsi = 0.5),  # TS with normal prior\n",
    "                    r'CTS-B': TS.CombTS_Basic(m, N, more_child_rngs[4], False, epsi = 1),  # TS with normal prior (single seed)\n",
    "                }\n",
    "instance.plot_regrets(errorbar=True, \n",
    "                        filename=\"./results/CSMAB_regrets_10arms_Bernoulli_all.pdf\", \n",
    "                        pltlow_bound = False, legend=True)\n"
   ]
  },
  {
   "cell_type": "code",
   "execution_count": null,
   "id": "65ec4bec-08d2-4c95-a011-a9a2e404fcb6",
   "metadata": {},
   "outputs": [],
   "source": [
    "instance.algorithms = {\n",
    "                    r'CTS-G ($\\gamma = 0.01$)': TS.CombTS_Basic(m, N, more_child_rngs[0], False, epsi = 0.01),  # TS with beta prior\n",
    "                    r'CTS-G ($\\gamma = 0.1$)': TS.CombTS_Basic(m, N, more_child_rngs[2], False, epsi = 0.1),  # TS with normal prior\n",
    "                    r'CTS-G ($\\gamma = 0.5$)': TS.CombTS_Basic(m, N, more_child_rngs[3], False, epsi = 0.5),  # TS with normal prior\n",
    "                    r'CTS-G ($\\gamma = 1$)': TS.CombTS_Basic(m, N, more_child_rngs[4], False, epsi = 1),  # TS with normal prior (single seed)\n",
    "                }\n",
    "instance.plot_regrets(errorbar=True, \n",
    "                        filename=\"./results/CSMAB_regrets_10arms_diffgamma_CTS_G.pdf\", \n",
    "                        pltlow_bound = False, legend=True)"
   ]
  },
  {
   "cell_type": "code",
   "execution_count": null,
   "id": "6ff784f7-af8d-4cd0-bbfd-d0f1f20137d2",
   "metadata": {},
   "outputs": [],
   "source": [
    "instance.algorithms = {\n",
    "                    r'CL-SG ($\\gamma = 0.01$)':TS.CombTS_Single(m, N, more_child_rngs[5], False, epsi = 0.01),\n",
    "                    r'CL-SG ($\\gamma = 0.1$)': TS.CombTS_Single(m, N, more_child_rngs[6], False, epsi = 0.1),\n",
    "                    r'CL-SG ($\\gamma = 0.5$)': TS.CombTS_Single(m, N, more_child_rngs[7], False, epsi = 0.5),\n",
    "                    r'CL-SG ($\\gamma = 1$)': TS.CombTS_Single(m, N, more_child_rngs[8], False, epsi = 1),\n",
    "                }\n",
    "instance.plot_regrets(errorbar=True, \n",
    "                        filename=\"./results/CSMAB_regrets_10arms_diffgamma_CL_SG.pdf\", \n",
    "                        pltlow_bound = False, legend=True)"
   ]
  },
  {
   "cell_type": "code",
   "execution_count": null,
   "id": "7184c1b9-05b3-4aca-875f-853924732ea9",
   "metadata": {},
   "outputs": [],
   "source": [
    "instance.algorithms = {\n",
    "                    r'CL-LG ($\\gamma = 0.01$)':TS.CombTS_Single(m, N, more_child_rngs[9], False, True, epsi = 0.01),\n",
    "                    r'CL-LG ($\\gamma = 0.1$)': TS.CombTS_Single(m, N, more_child_rngs[10], False, True, epsi = 0.1),\n",
    "                    r'CL-LG ($\\gamma = 0.5$)': TS.CombTS_Single(m, N, more_child_rngs[11], False, True, epsi = 0.5),\n",
    "                    r'CL-LG ($\\gamma = 1$)': TS.CombTS_Single(m, N, more_child_rngs[12], False, True, epsi = 1),\n",
    "                }\n",
    "instance.plot_regrets(errorbar=True, \n",
    "                        filename=\"./results/CSMAB_regrets_10arms_diffgamma_CL_LG.pdf\", \n",
    "                        pltlow_bound = False, legend=True)"
   ]
  },
  {
   "cell_type": "code",
   "execution_count": null,
   "id": "afea1d4d-bbae-4faa-8304-c414857aad63",
   "metadata": {},
   "outputs": [],
   "source": [
    "instance.algorithms = {\n",
    "                    r'CTS-G ($\\gamma = 0.01$)':TS.CombTS_Single(m, N, more_child_rngs[9], False, True, epsi = 0.01),\n",
    "                    r'CL-SG ($\\gamma = 0.01$)': TS.CombTS_Single(m, N, more_child_rngs[10], False, True, epsi = 0.1),\n",
    "                    r'CL-LG ($\\gamma = 0.01$)': TS.CombTS_Single(m, N, more_child_rngs[11], False, True, epsi = 0.5),\n",
    "                }\n",
    "instance.plot_regrets(errorbar=True, \n",
    "                        filename=\"./results/CSMAB_regrets_10arms_diffgamma_all001.pdf\", \n",
    "                        pltlow_bound = False, legend=True)"
   ]
  },
  {
   "cell_type": "code",
   "execution_count": null,
   "id": "f43a2483-463a-4b7e-815d-dc226c41843b",
   "metadata": {},
   "outputs": [],
   "source": [
    "instance.algorithms = {\n",
    "                    r'CTS-G ($\\gamma = 0.1$)':TS.CombTS_Single(m, N, more_child_rngs[9], False, True, epsi = 0.01),\n",
    "                    r'CL-SG ($\\gamma = 0.1$)': TS.CombTS_Single(m, N, more_child_rngs[10], False, True, epsi = 0.1),\n",
    "                    r'CL-LG ($\\gamma = 0.1$)': TS.CombTS_Single(m, N, more_child_rngs[11], False, True, epsi = 0.5),\n",
    "                }\n",
    "instance.plot_regrets(errorbar=True, \n",
    "                        filename=\"./results/CSMAB_regrets_10arms_diffgamma_all01.pdf\", \n",
    "                        pltlow_bound = False, legend=True)"
   ]
  },
  {
   "cell_type": "code",
   "execution_count": null,
   "id": "73cc9004-aa2a-41e5-a119-e66bae2723c0",
   "metadata": {},
   "outputs": [],
   "source": [
    "instance.algorithms = {\n",
    "                    r'CTS-G ($\\gamma = 0.5$)':TS.CombTS_Single(m, N, more_child_rngs[9], False, True, epsi = 0.01),\n",
    "                    r'CL-SG ($\\gamma = 0.5$)': TS.CombTS_Single(m, N, more_child_rngs[10], False, True, epsi = 0.1),\n",
    "                    r'CL-LG ($\\gamma = 0.5$)': TS.CombTS_Single(m, N, more_child_rngs[11], False, True, epsi = 0.5),\n",
    "                }\n",
    "instance.plot_regrets(errorbar=True, \n",
    "                        filename=\"./results/CSMAB_regrets_10arms_diffgamma_all05.pdf\", \n",
    "                        pltlow_bound = False, legend=True)"
   ]
  },
  {
   "cell_type": "code",
   "execution_count": null,
   "id": "5fb9a0d5-365b-4f6f-93b7-aacbc9ab7ec0",
   "metadata": {},
   "outputs": [],
   "source": [
    "instance.algorithms = {\n",
    "                    r'CTS-G ($\\gamma = 1$)':TS.CombTS_Single(m, N, more_child_rngs[9], False, True, epsi = 0.01),\n",
    "                    r'CL-SG ($\\gamma = 1$)': TS.CombTS_Single(m, N, more_child_rngs[10], False, True, epsi = 0.1),\n",
    "                    r'CL-LG ($\\gamma = 1$)': TS.CombTS_Single(m, N, more_child_rngs[11], False, True, epsi = 0.5),\n",
    "                }\n",
    "instance.plot_regrets(errorbar=True, \n",
    "                        filename=\"./results/CSMAB_regrets_10arms_diffgamma_all1.pdf\", \n",
    "                        pltlow_bound = False, legend=True)"
   ]
  },
  {
   "cell_type": "code",
   "execution_count": null,
   "id": "8ffe0f2e-3c77-4fa0-aa0d-76a117d19f3d",
   "metadata": {},
   "outputs": [],
   "source": []
  }
 ],
 "metadata": {
  "kernelspec": {
   "display_name": "Python 3.11",
   "language": "python",
   "name": "python3"
  },
  "language_info": {
   "codemirror_mode": {
    "name": "ipython",
    "version": 3
   },
   "file_extension": ".py",
   "mimetype": "text/x-python",
   "name": "python",
   "nbconvert_exporter": "python",
   "pygments_lexer": "ipython3",
   "version": "3.11.5"
  }
 },
 "nbformat": 4,
 "nbformat_minor": 5
}
